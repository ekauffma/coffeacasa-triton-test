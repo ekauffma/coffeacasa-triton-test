{
 "cells": [
  {
   "cell_type": "code",
   "execution_count": 1,
   "id": "2cd74d65-2b7e-48b7-a7ec-cd0ba4fc748d",
   "metadata": {},
   "outputs": [],
   "source": [
    "import sys\n",
    "import numpy as np\n",
    "import uproot\n",
    "import hist\n",
    "import awkward as ak\n",
    "\n",
    "import tritonclient.grpc as grpcclient\n",
    "from tritonclient.utils import InferenceServerException\n",
    "\n",
    "from coffea import processor\n",
    "from coffea.nanoevents.schemas.base import BaseSchema, zip_forms\n",
    "from coffea.nanoevents.methods import base"
   ]
  },
  {
   "cell_type": "markdown",
   "id": "b5bcce89-f41e-4db2-8b07-e305595350a2",
   "metadata": {},
   "source": [
    "# DEMO: First steps using Triton inference server at coffea-casa facility\n",
    "__________\n",
    "\n",
    "To demonstrate the current functionality of inference with Triton at the coffea-casa OD facility, a simple example was developed. Toy \"events\", each with four randomly generated observables, were created from signal and background classes. The comparison of background and signal distributions can be seen below:\n",
    "![alt text](images/toydata_truth.png \"Histograms of Toy Data Variables\")\n",
    "\n",
    "This data was used to train a simple neural network in PyTorch to classify an event as either signal or background, when given the four input variables. The architecture of this network is shown below. With this simple model architecture, the network achieves around 97\\% accuracy.\n",
    "![alt text](images/binary_classifier.png \"Neural Network Architecture\")\n",
    "\n",
    "In order to use this PyTorch model for inference in the Triton server, there are a few steps that need to be taken.\n",
    "\n",
    "1. The model needs to be a ScriptModule (torch.jit.ScriptModule). This is an analog to torch.nn.Module and is a wrapper around C++. For simple models, such as the one used in this example, this can be done by the command `model = torch.jit.script(model)`.\n",
    "2. Save the model using `torch.jit.save`\n",
    "3. Create a directory for your model. For this facility, the directory should be placed in `/mnt`. The structure of the directory must be the following:\n",
    "```text\n",
    "        binary_classifier/\n",
    "        ├── 1\n",
    "        │   └── model.pt\n",
    "        └── config.pbtxt\n",
    "```\n",
    "\n",
    "&nbsp;&nbsp;&nbsp;&nbsp;&nbsp;&nbsp;The subdirectory `1` indicates the model version. You can have multiple versions. `1` contains the model file, which must be named `model.pt`, if using PyTorch.\n",
    "\n",
    "&nbsp;&nbsp;&nbsp;&nbsp;&nbsp;&nbsp;You must also create the config file. The structure of the config file used in this example is printed below. Variable names must be of the form `var__i`, where `i` is an integer. The name of the model in the config file much match the name of the model directory.\n",
    "    \n",
    "    \n",
    "```\n",
    "name: \"binary_classifier\"\n",
    "platform: \"pytorch_libtorch\"\n",
    "max_batch_size: 0\n",
    "input [\n",
    "  {\n",
    "    name: \"x__0\"\n",
    "    data_type: TYPE_FP32\n",
    "    dims: [ -1, 4 ]\n",
    "  }\n",
    "]\n",
    "output [\n",
    "  {\n",
    "    name: \"logits__0\"\n",
    "    data_type: TYPE_FP32\n",
    "    dims: [ -1, 1  ]\n",
    "  }\n",
    "]\n",
    "\n",
    "dynamic_batching {}\n",
    "```\n",
    "4. You can check if the model is loaded by running `curl agc-triton-inference-server:8000/v2/models/{model_name}/config`. Let's check if our model is loaded:"
   ]
  },
  {
   "cell_type": "code",
   "execution_count": 2,
   "id": "edfdc106-7e6e-4d07-9668-efc7cd38cf29",
   "metadata": {},
   "outputs": [
    {
     "name": "stdout",
     "output_type": "stream",
     "text": [
      "curl: /opt/conda/lib/libcurl.so.4: no version information available (required by curl)\n",
      "*   Trying 192.168.41.89:8000...\n",
      "* Connected to agc-triton-inference-server (192.168.41.89) port 8000 (#0)\n",
      "> GET /v2/models/binary_classifier/config HTTP/1.1\n",
      "> Host: agc-triton-inference-server:8000\n",
      "> User-Agent: curl/7.68.0\n",
      "> Accept: */*\n",
      "> \n",
      "* Mark bundle as not supporting multiuse\n",
      "< HTTP/1.1 200 OK\n",
      "< Content-Type: application/json\n",
      "< Content-Length: 1077\n",
      "< \n",
      "{\"name\":\"binary_classifier\",\"platform\":\"pytorch_libtorch\",\"backend\":\"pytorch\",\"version_policy\":{\"latest\":{\"num_versions\":1}},\"max_batch_size\":0,\"input\":[{\"name\":\"x__0\",\"data_type\":\"TYPE_FP32\",\"format\":\"FORMAT_NONE\",\"dims\":[-1,4],\"is_shape_tensor\":false,\"allow_ragged_batch\":false,\"optional\":false}],\"output\":[{\"name\":\"logits__0\",\"data_type\":\"TYPE_FP32\",\"dims\":[-1,1],\"label_filename\":\"\",\"is_shape_tensor\":false}],\"batch_input\":[],\"batch_output\":[],\"optimization\":{\"priority\":\"PRIORITY_DEFAULT\",\"input_pinned_memory\":{\"enable\":true},\"output_pinned_memory\":{\"enable\":true},\"gather_kernel_buffer_threshold\":0,\"eager_batching\":false},\"dynamic_batching\":{\"preferred_batch_size\":[],\"max_queue_delay_microseconds\":0,\"preserve_ordering\":false,\"priority_levels\":0,\"default_priority_level\":0,\"priority_queue_policy\":{}},\"instance_group\":[{\"name\":\"binary_classifier\",\"kind\":\"KIND_GPU\",\"count\":1,\"gpus\":[0],\"secondary_devices\":[],\"profile\":[],\"passive\":false,\"host_policy\":\"\"}],\"default_model_filename\":\"model.pt\",\"cc_model_filenames\":{* Connection #0 to host agc-triton-inference-server left intact\n",
      "},\"metric_tags\":{},\"parameters\":{},\"model_warmup\":[]}"
     ]
    }
   ],
   "source": [
    "!curl -v agc-triton-inference-server:8000/v2/models/binary_classifier/config"
   ]
  },
  {
   "cell_type": "markdown",
   "id": "8c1f19c6-7685-4bc6-a59f-9e4290ee393a",
   "metadata": {},
   "source": [
    "________\n",
    "If you see `{\"error\":\"Request for unknown model: 'binary_classifier' has no available versions\"}`, the model needs to be loaded. You can load or unload models from the inference server using the following commands:\n",
    "\n",
    "* Note: Loading/unloading models in this way may not work at the moment, so be careful!"
   ]
  },
  {
   "cell_type": "code",
   "execution_count": 3,
   "id": "af980843-47b4-47c3-91b2-86033f0dab96",
   "metadata": {},
   "outputs": [],
   "source": [
    "#!curl -v -X POST agc-triton-inference-server:8000/v2/repository/models/binary_classifier/unload\n",
    "#!curl -v -X POST agc-triton-inference-server:8000/v2/repository/models/binary_classifier/load"
   ]
  },
  {
   "cell_type": "markdown",
   "id": "b99f684f-f3a5-472b-a9be-8f3fd3f059e6",
   "metadata": {},
   "source": [
    "Now that we know the model is loaded, we can start setting up to perform inference!"
   ]
  },
  {
   "cell_type": "code",
   "execution_count": 4,
   "id": "3a78a21d-daf6-4884-afca-9c6c65d36e23",
   "metadata": {},
   "outputs": [],
   "source": [
    "# options for triton inference server\n",
    "verbose     = False # enable verbose output for grpcclient\n",
    "url         = \"agc-triton-inference-server:8001\" # url of inference server. use 8001 for grpcclient and 8000 for httpclient\n",
    "model_name  = \"binary_classifier\" # name of ML model to use (make sure it is loaded properly)\n",
    "model_vers  = \"\" # specify model version if necessary\n",
    "\n",
    "# options for coffea\n",
    "num_cores   = 4 # scaling for setup with FuturesExecutor"
   ]
  },
  {
   "cell_type": "markdown",
   "id": "70a8cd85-9524-4031-aa8e-b584666cdbc0",
   "metadata": {},
   "source": [
    "## Defining coffea processor"
   ]
  },
  {
   "cell_type": "code",
   "execution_count": 5,
   "id": "744c9564-9157-4fcb-ac90-474f570a7b77",
   "metadata": {},
   "outputs": [],
   "source": [
    "processor_base = processor.ProcessorABC\n",
    "\n",
    "class SigBkgInference(processor_base):\n",
    "    \n",
    "    def __init__(self, model_name, model_vers, url, verbose):\n",
    "        \n",
    "        # histogram to store event variables and inference results\n",
    "        self.hist = (hist.Hist.new.Reg(50, -7, 7, name=\"var0\", label=\"Variable 0\")\n",
    "                     .Reg(50, -45, 5, name=\"var1\", label=\"Variable 1\")\n",
    "                     .Reg(50, 0, 15, name=\"var2\", label=\"Variable 2\")\n",
    "                     .IntCat(range(2), name=\"classification\", label=\"ML Classification (Sig/Bkg)\")\n",
    "                     .Weight())\n",
    "        \n",
    "        # model information\n",
    "        self.model_name = model_name\n",
    "        self.model_vers = model_vers\n",
    "        self.url = url\n",
    "        self.verbose = verbose\n",
    "        \n",
    "    def process(self, events):\n",
    "        \n",
    "        histogram = self.hist.copy()\n",
    "        \n",
    "        # concatenate event variables (for input into neural network)\n",
    "        features = np.vstack((events.var0, \n",
    "                              events.var1, \n",
    "                              events.var2, \n",
    "                              events.var3)).to_numpy().T.astype(np.float32)\n",
    "        \n",
    "        # create gRPC client (communicates with inference server)\n",
    "        triton_client = grpcclient.InferenceServerClient(url=self.url, verbose=self.verbose)\n",
    "        \n",
    "        # get model info\n",
    "        model_metadata = triton_client.get_model_metadata(self.model_name, self.model_vers)\n",
    "        input_name = model_metadata.inputs[0].name\n",
    "        dtype = model_metadata.inputs[0].datatype\n",
    "        output_name = model_metadata.outputs[0].name\n",
    "        \n",
    "        # configure and set inputs\n",
    "        client = grpcclient\n",
    "        inpt = [client.InferInput(input_name, features.shape, dtype)]\n",
    "        inpt[0].set_data_from_numpy(features)\n",
    "        \n",
    "        # configure output\n",
    "        output = client.InferRequestedOutput(output_name)\n",
    "        \n",
    "        # inference request (uses dynamic batching)\n",
    "        results = triton_client.infer(model_name=self.model_name, \n",
    "                                      inputs=inpt, \n",
    "                                      outputs=[output]).as_numpy(output_name)\n",
    "        \n",
    "        # round results to nearest integer and reshape\n",
    "        classification = np.round(results).T[0].astype(int).tolist()\n",
    "        \n",
    "        triton_client.close() # close client\n",
    "        \n",
    "        # fill histogram\n",
    "        histogram.fill(var0=events.var0, \n",
    "                       var1=events.var1, \n",
    "                       var2=events.var2, \n",
    "                       classification=classification)\n",
    "            \n",
    "        output = {\"nevents\": {events.metadata[\"dataset\"]: features.shape[0]}, \n",
    "                  \"hist\": histogram}\n",
    "\n",
    "        return output\n",
    "\n",
    "    def postprocess(self, accumulator):\n",
    "        return accumulator"
   ]
  },
  {
   "cell_type": "markdown",
   "id": "551946c9-584f-4ea6-bbcb-e67e2741da08",
   "metadata": {},
   "source": [
    "## Defining schema to load toy data"
   ]
  },
  {
   "cell_type": "code",
   "execution_count": 6,
   "id": "5bc83ee1-d699-43d8-b283-a0b6ee78ed02",
   "metadata": {},
   "outputs": [],
   "source": [
    "class ToySchema(BaseSchema):\n",
    "    \n",
    "    def _build_collections(self, branch_forms):\n",
    "        names = [\"var0\", \"var1\", \"var2\", \"var3\"]\n",
    "        \n",
    "        output = {}\n",
    "        for name in names:\n",
    "            output[name] = branch_forms[name]\n",
    "        return output"
   ]
  },
  {
   "cell_type": "markdown",
   "id": "f93efbb2-ec2c-4da7-bc9b-1c949ee5ab6e",
   "metadata": {},
   "source": [
    "## Process events"
   ]
  },
  {
   "cell_type": "code",
   "execution_count": 7,
   "id": "d4ef92e8-02ac-4173-9d31-ebc6a32082eb",
   "metadata": {},
   "outputs": [],
   "source": [
    "# paths to files\n",
    "fileset = {'process0': {'files': ['data/testdata0.root',\n",
    "                                  'data/testdata1.root',\n",
    "                                  'data/testdata2.root',\n",
    "                                  'data/testdata3.root',\n",
    "                                  'data/testdata4.root',\n",
    "                                  'data/testdata5.root',\n",
    "                                  'data/testdata6.root',\n",
    "                                  'data/testdata7.root',\n",
    "                                  'data/testdata8.root',\n",
    "                                  'data/testdata9.root'],\n",
    "                        'nevts': 10*20000}\n",
    "          }"
   ]
  },
  {
   "cell_type": "code",
   "execution_count": 8,
   "id": "0df5d82d-1f7e-4d1d-a379-8e5d40998be8",
   "metadata": {},
   "outputs": [],
   "source": [
    "executor = processor.FuturesExecutor(workers=num_cores)"
   ]
  },
  {
   "cell_type": "code",
   "execution_count": 9,
   "id": "2b212c1d-c2be-4aa4-afc6-947de6dbc6e0",
   "metadata": {},
   "outputs": [],
   "source": [
    "run = processor.Runner(executor=executor, \n",
    "                       schema=ToySchema, \n",
    "                       savemetrics=True, \n",
    "                       metadata_cache={}, \n",
    "                       chunksize=500_000)"
   ]
  },
  {
   "cell_type": "code",
   "execution_count": 10,
   "id": "a12333aa-427b-40bd-a1f5-7dd3e0074e30",
   "metadata": {},
   "outputs": [
    {
     "data": {
      "text/html": [
       "<pre style=\"white-space:pre;overflow-x:auto;line-height:normal;font-family:Menlo,'DejaVu Sans Mono',consolas,'Courier New',monospace\"></pre>\n"
      ],
      "text/plain": [
       "\u001b[?25l"
      ]
     },
     "metadata": {},
     "output_type": "display_data"
    },
    {
     "data": {
      "application/vnd.jupyter.widget-view+json": {
       "model_id": "de09c67d168b4be6976107ed504d889a",
       "version_major": 2,
       "version_minor": 0
      },
      "text/plain": [
       "Output()"
      ]
     },
     "metadata": {},
     "output_type": "display_data"
    },
    {
     "data": {
      "text/html": [
       "<pre style=\"white-space:pre;overflow-x:auto;line-height:normal;font-family:Menlo,'DejaVu Sans Mono',consolas,'Courier New',monospace\">\n",
       "</pre>\n"
      ],
      "text/plain": [
       "\n",
       "\u001b[?25h"
      ]
     },
     "metadata": {},
     "output_type": "display_data"
    }
   ],
   "source": [
    "filemeta = run.preprocess(fileset, treename=\"events\")"
   ]
  },
  {
   "cell_type": "code",
   "execution_count": 11,
   "id": "1e0bb224-6732-46fa-8144-1a576ed1f673",
   "metadata": {},
   "outputs": [
    {
     "data": {
      "text/html": [
       "<pre style=\"white-space:pre;overflow-x:auto;line-height:normal;font-family:Menlo,'DejaVu Sans Mono',consolas,'Courier New',monospace\"></pre>\n"
      ],
      "text/plain": [
       "\u001b[?25l"
      ]
     },
     "metadata": {},
     "output_type": "display_data"
    },
    {
     "data": {
      "application/vnd.jupyter.widget-view+json": {
       "model_id": "363e6877264c40a78c472bec0747c3f9",
       "version_major": 2,
       "version_minor": 0
      },
      "text/plain": [
       "Output()"
      ]
     },
     "metadata": {},
     "output_type": "display_data"
    },
    {
     "data": {
      "text/html": [
       "<pre style=\"white-space:pre;overflow-x:auto;line-height:normal;font-family:Menlo,'DejaVu Sans Mono',consolas,'Courier New',monospace\">\n",
       "</pre>\n"
      ],
      "text/plain": [
       "\n",
       "\u001b[?25h"
      ]
     },
     "metadata": {},
     "output_type": "display_data"
    }
   ],
   "source": [
    "all_histograms, metrics = run(fileset, \n",
    "                              \"events\", \n",
    "                              processor_instance=SigBkgInference(model_name, \n",
    "                                                                 model_vers, \n",
    "                                                                 url, \n",
    "                                                                 verbose)\n",
    "                             )"
   ]
  },
  {
   "cell_type": "code",
   "execution_count": 12,
   "id": "0a04a755-3f74-4ebb-8fe6-7c16a17b1b9a",
   "metadata": {},
   "outputs": [],
   "source": [
    "import matplotlib.pyplot as plt"
   ]
  },
  {
   "cell_type": "code",
   "execution_count": 13,
   "id": "04736c6e-4411-48a6-ae32-2c0414bf52bf",
   "metadata": {},
   "outputs": [
    {
     "data": {
      "text/plain": [
       "Hist(\n",
       "  Regular(50, -7, 7, name='var0', label='Variable 0'),\n",
       "  Regular(50, -45, 5, name='var1', label='Variable 1'),\n",
       "  Regular(50, 0, 15, name='var2', label='Variable 2'),\n",
       "  IntCategory([0, 1], name='classification', label='ML Classification (Sig/Bkg)'),\n",
       "  storage=Weight()) # Sum: WeightedSum(value=199932, variance=199932) (WeightedSum(value=200000, variance=200000) with flow)"
      ]
     },
     "execution_count": 13,
     "metadata": {},
     "output_type": "execute_result"
    }
   ],
   "source": [
    "all_histograms['hist']"
   ]
  },
  {
   "cell_type": "markdown",
   "id": "e08c1544-2928-460f-bd9d-ca33418a20e9",
   "metadata": {},
   "source": [
    "## Now we can histogram the variables by predicted class! (Signal or Background)"
   ]
  },
  {
   "cell_type": "code",
   "execution_count": 14,
   "id": "220b6869-49be-448d-a347-dbfa0d8786e7",
   "metadata": {},
   "outputs": [
    {
     "data": {
      "image/png": "[encoded data removed]",
      "text/plain": [
       "<Figure size 640x480 with 1 Axes>"
      ]
     },
     "metadata": {},
     "output_type": "display_data"
    },
    {
     "data": {
      "image/png": "[encoded data removed]",
      "text/plain": [
       "<Figure size 640x480 with 1 Axes>"
      ]
     },
     "metadata": {},
     "output_type": "display_data"
    },
    {
     "data": {
      "image/png": "[encoded data removed]",
      "text/plain": [
       "<Figure size 640x480 with 1 Axes>"
      ]
     },
     "metadata": {},
     "output_type": "display_data"
    }
   ],
   "source": [
    "all_histograms['hist'].project(\"classification\", \"var0\").plot(density=True)\n",
    "plt.legend([\"Predicted as Signal\",\"Predicted as Background\"])\n",
    "plt.ylabel(\"Density\")\n",
    "plt.show()\n",
    "all_histograms['hist'].project(\"classification\", \"var1\").plot(density=True)\n",
    "plt.legend([\"Predicted as Signal\",\"Predicted as Background\"])\n",
    "plt.ylabel(\"Density\")\n",
    "plt.show()\n",
    "all_histograms['hist'].project(\"classification\", \"var2\").plot(density=True)\n",
    "plt.legend([\"Predicted as Signal\",\"Predicted as Background\"])\n",
    "plt.ylabel(\"Density\")\n",
    "plt.show()"
   ]
  },
  {
   "cell_type": "code",
   "execution_count": null,
   "id": "69a61e06-d8b2-4f09-a755-81fabb1a6eac",
   "metadata": {},
   "outputs": [],
   "source": []
  },
  {
   "cell_type": "code",
   "execution_count": null,
   "id": "4e550c03-0bba-4be2-905e-43b1ef188f1b",
   "metadata": {},
   "outputs": [],
   "source": []
  }
 ],
 "metadata": {
  "kernelspec": {
   "display_name": "Python 3 (ipykernel)",
   "language": "python",
   "name": "python3"
  },
  "language_info": {
   "codemirror_mode": {
    "name": "ipython",
    "version": 3
   },
   "file_extension": ".py",
   "mimetype": "text/x-python",
   "name": "python",
   "nbconvert_exporter": "python",
   "pygments_lexer": "ipython3",
   "version": "3.8.15"
  }
 },
 "nbformat": 4,
 "nbformat_minor": 5
}
