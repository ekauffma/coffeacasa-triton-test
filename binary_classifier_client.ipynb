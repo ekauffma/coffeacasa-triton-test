{
 "cells": [
  {
   "cell_type": "code",
   "execution_count": 1,
   "id": "2cd74d65-2b7e-48b7-a7ec-cd0ba4fc748d",
   "metadata": {},
   "outputs": [],
   "source": [
    "import sys\n",
    "import numpy as np\n",
    "\n",
    "import tritonclient.grpc as grpcclient\n",
    "from tritonclient.utils import InferenceServerException\n",
    "\n",
    "if sys.version_info >= (3, 0):\n",
    "    import queue\n",
    "else:\n",
    "    import Queue as queue"
   ]
  },
  {
   "cell_type": "code",
   "execution_count": 2,
   "id": "3a78a21d-daf6-4884-afca-9c6c65d36e23",
   "metadata": {},
   "outputs": [],
   "source": [
    "# options\n",
    "\n",
    "verbose     = False # enable verbose output for grpcclient\n",
    "batch_size  = 8 # number of events to send in one inference request\n",
    "url         = \"agc-triton-inference-server:8001\" # url of inference server. use 8001 for grpcclient and 8000 for httpclient\n",
    "test_events = \"testevents.csv\" # input csv file\n",
    "model_name  = \"binary_classifier\" # name of ML model to use (make sure it is loaded properly)\n",
    "model_vers  = \"\" # specify model version if necessary\n",
    "num_batches = 5 # number of batches to process (number of events will be num_batches*batch_size)"
   ]
  },
  {
   "cell_type": "code",
   "execution_count": 3,
   "id": "e926dd23-1779-4013-8a38-cce6b534f05a",
   "metadata": {},
   "outputs": [],
   "source": [
    "# create gRPC client (communicates with inference server)\n",
    "triton_client = grpcclient.InferenceServerClient(url=url, \n",
    "                                                 verbose=verbose)"
   ]
  },
  {
   "cell_type": "code",
   "execution_count": 4,
   "id": "ca236889-518e-4677-a87f-8438ceea1e60",
   "metadata": {},
   "outputs": [],
   "source": [
    "model_metadata = triton_client.get_model_metadata(model_name, model_vers)"
   ]
  },
  {
   "cell_type": "code",
   "execution_count": 5,
   "id": "4ff913fc-f12d-476d-86df-c6ef5628e817",
   "metadata": {},
   "outputs": [],
   "source": [
    "model_config = triton_client.get_model_config(model_name=model_name, \n",
    "                                              model_version=model_vers)"
   ]
  },
  {
   "cell_type": "code",
   "execution_count": 6,
   "id": "a9bc2794-bf4d-4461-8083-6fd15786e25d",
   "metadata": {},
   "outputs": [],
   "source": [
    "model_config = model_config.config"
   ]
  },
  {
   "cell_type": "code",
   "execution_count": 7,
   "id": "217cb2c2-7676-44a0-816d-72e25bf08c1a",
   "metadata": {},
   "outputs": [],
   "source": [
    "input_metadata = model_metadata.inputs[0]\n",
    "input_config = model_config.input[0]\n",
    "output_metadata = model_metadata.outputs[0]\n",
    "\n",
    "input_batch_dim = (model_config.max_batch_size > 0)\n",
    "\n",
    "max_batch_size = model_config.max_batch_size\n",
    "input_name = input_metadata.name\n",
    "output_name = output_metadata.name\n",
    "n_features = input_metadata.shape[1 if input_batch_dim else 0]\n",
    "format = input_config.format\n",
    "dtype = input_metadata.datatype"
   ]
  },
  {
   "cell_type": "code",
   "execution_count": 8,
   "id": "276875d6-e80d-4a45-9ad5-61c3dfef3638",
   "metadata": {},
   "outputs": [],
   "source": [
    "# load data \n",
    "data = np.loadtxt(test_events, dtype=np.float32, delimiter=',')"
   ]
  },
  {
   "cell_type": "code",
   "execution_count": 9,
   "id": "50cc69f1-a97d-460a-8914-fd2e602a430f",
   "metadata": {},
   "outputs": [],
   "source": [
    "# batch information\n",
    "data_length = data.shape[0]\n",
    "max_num_batches = int(np.ceil(data_length/batch_size)) # maximum number of batches given number of events in data and batch_size\n",
    "    \n",
    "num_batches = np.minimum(num_batches, max_num_batches) # ensure number of batches doesn't extend beyond number of events"
   ]
  },
  {
   "cell_type": "code",
   "execution_count": 11,
   "id": "87402a9f-8720-4f94-a19e-0fadda39b00b",
   "metadata": {},
   "outputs": [
    {
     "name": "stdout",
     "output_type": "stream",
     "text": [
      "Inference Results for Batch 0:  [[1. 0. 0. 0. 0. 1. 1. 0.]]\n",
      "Inference Results for Batch 1:  [[0. 0. 1. 1. 1. 0. 0. 0.]]\n",
      "Inference Results for Batch 2:  [[0. 0. 1. 0. 0. 0. 1. 0.]]\n",
      "Inference Results for Batch 3:  [[1. 0. 1. 1. 0. 0. 0. 1.]]\n",
      "Inference Results for Batch 4:  [[1. 1. 0. 0. 1. 1. 1. 0.]]\n"
     ]
    }
   ],
   "source": [
    "# send inference requests    \n",
    "startind = 0\n",
    "\n",
    "for i in range(num_batches):\n",
    "        \n",
    "        data_current = data[startind:startind + batch_size, :]\n",
    "        startind += batch_size\n",
    "        \n",
    "        client = grpcclient\n",
    "\n",
    "        inpt = [client.InferInput(input_name, data_current.shape, dtype)]\n",
    "        inpt[0].set_data_from_numpy(data_current)\n",
    "\n",
    "        output = client.InferRequestedOutput(output_name)\n",
    "        \n",
    "        results = triton_client.infer(model_name=model_name, \n",
    "                                      inputs=inpt, \n",
    "                                      outputs=[output])\n",
    "    \n",
    "        inference_output = results.as_numpy(output_name)\n",
    "        print(f\"Inference Results for Batch {i}: \", np.round(inference_output).T)"
   ]
  }
 ],
 "metadata": {
  "kernelspec": {
   "display_name": "Python 3 (ipykernel)",
   "language": "python",
   "name": "python3"
  },
  "language_info": {
   "codemirror_mode": {
    "name": "ipython",
    "version": 3
   },
   "file_extension": ".py",
   "mimetype": "text/x-python",
   "name": "python",
   "nbconvert_exporter": "python",
   "pygments_lexer": "ipython3",
   "version": "3.8.15"
  }
 },
 "nbformat": 4,
 "nbformat_minor": 5
}
