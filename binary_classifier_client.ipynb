{
 "cells": [
  {
   "cell_type": "code",
   "execution_count": 1,
   "id": "2cd74d65-2b7e-48b7-a7ec-cd0ba4fc748d",
   "metadata": {},
   "outputs": [],
   "source": [
    "import sys\n",
    "import numpy as np\n",
    "import uproot\n",
    "import hist\n",
    "import awkward as ak\n",
    "\n",
    "import tritonclient.grpc as grpcclient\n",
    "from tritonclient.utils import InferenceServerException\n",
    "\n",
    "from coffea import processor\n",
    "from coffea.nanoevents.schemas.base import BaseSchema, zip_forms\n",
    "from coffea.nanoevents.methods import base"
   ]
  },
  {
   "cell_type": "markdown",
   "id": "b5bcce89-f41e-4db2-8b07-e305595350a2",
   "metadata": {},
   "source": [
    "# DEMO: First steps using Triton inference server at coffea-casa facility\n",
    "__________\n",
    "\n",
    "To demonstrate the current functionality of inference with Triton at the coffea-casa OD facility, a simple example was developed. Toy \"events\", each with four randomly generated observables, were created from signal and background classes. The comparison of background and signal distributions can be seen below:\n",
    "![alt text](images/toydata_truth.png \"Histograms of Toy Data Variables\")\n",
    "\n",
    "This data was used to train a simple neural network in PyTorch to classify an event as either signal or background, when given the four input variables. The architecture of this network is shown below. With this simple model architecture, the network achieves around 97\\% accuracy.\n",
    "![alt text](images/binary_classifier.png \"Neural Network Architecture\")\n",
    "\n",
    "In order to use this PyTorch model for inference in the Triton server, there are a few steps that need to be taken.\n",
    "\n",
    "1. The model needs to be a ScriptModule (torch.jit.ScriptModule). This is an analog to torch.nn.Module and is a wrapper around C++. For simple models, such as the one used in this example, this can be done by the command `model = torch.jit.script(model)`.\n",
    "2. Save the model using `torch.jit.save`\n",
    "3. Create a directory for your model. For this facility, the directory should be placed in `/mnt`. The structure of the directory must be the following:\n",
    "```text\n",
    "        binary_classifier/\n",
    "        ├── 1\n",
    "        │   └── model.pt\n",
    "        └── config.pbtxt\n",
    "```\n",
    "    * the subdirectory `1` indicates the model version. You can have multiple versions. `1` contains the model file, which must be named `model.pt`, if using PyTorch.\n",
    "    * You must also create the config file. The structure of the config file used in this example is printed below. Variable names must be of the form `var__i`, where `i` is an integer. The name of the model in the config file much match the name of the model directory.\n",
    "    \n",
    "```\n",
    "name: \"binary_classifier\"\n",
    "platform: \"pytorch_libtorch\"\n",
    "max_batch_size: 8\n",
    "input [\n",
    "  {\n",
    "    name: \"x\"\n",
    "    data_type: TYPE_FP32\n",
    "    dims: [ 4 ]\n",
    "  }\n",
    "]\n",
    "output [\n",
    "  {\n",
    "    name: \"logits\"\n",
    "    data_type: TYPE_FP32\n",
    "    dims: [ 1  ]\n",
    "  }\n",
    "]\n",
    "```\n",
    "4. *Current issue:* There should be a nice way to load models into the Triton inference server, but we currently need to restart the server in order to load models.\n",
    "5. You can check if the model is loaded by running `curl agc-triton-inference-server:8000/v2/models/{model_name}/config`. Let's check if our model is loaded:"
   ]
  },
  {
   "cell_type": "code",
   "execution_count": 2,
   "id": "edfdc106-7e6e-4d07-9668-efc7cd38cf29",
   "metadata": {},
   "outputs": [
    {
     "name": "stdout",
     "output_type": "stream",
     "text": [
      "curl: /opt/conda/lib/libcurl.so.4: no version information available (required by curl)\n",
      "*   Trying 192.168.41.85:8000...\n",
      "* Connected to agc-triton-inference-server (192.168.41.85) port 8000 (#0)\n",
      "> GET /v2/models/binary_classifier/config HTTP/1.1\n",
      "> Host: agc-triton-inference-server:8000\n",
      "> User-Agent: curl/7.68.0\n",
      "> Accept: */*\n",
      "> \n",
      "* Mark bundle as not supporting multiuse\n",
      "< HTTP/1.1 400 Bad Request\n",
      "< Content-Type: application/json\n",
      "< Content-Length: 71\n",
      "< \n",
      "* Connection #0 to host agc-triton-inference-server left intact\n",
      "{\"error\":\"Request for unknown model: 'binary_classifier' is not found\"}"
     ]
    }
   ],
   "source": [
    "!curl -v agc-triton-inference-server:8000/v2/models/binary_classifier/config"
   ]
  },
  {
   "cell_type": "code",
   "execution_count": 3,
   "id": "3a78a21d-daf6-4884-afca-9c6c65d36e23",
   "metadata": {},
   "outputs": [],
   "source": [
    "# options\n",
    "\n",
    "# options for triton inference server\n",
    "verbose     = False # enable verbose output for grpcclient\n",
    "batch_size  = 1000 # number of events to send in one inference request\n",
    "url         = \"agc-triton-inference-server:8001\" # url of inference server. use 8001 for grpcclient and 8000 for httpclient\n",
    "test_events = \"testevents.csv\" # input csv file\n",
    "model_name  = \"binary_classifier\" # name of ML model to use (make sure it is loaded properly)\n",
    "model_vers  = \"\" # specify model version if necessary\n",
    "num_batches = 5 # number of batches to process (number of events will be num_batches*batch_size)\n",
    "\n",
    "# options for coffea\n",
    "num_cores   = 4 # scaling for setup with FuturesExecutor"
   ]
  },
  {
   "cell_type": "markdown",
   "id": "70a8cd85-9524-4031-aa8e-b584666cdbc0",
   "metadata": {},
   "source": [
    "## Defining coffea processor"
   ]
  },
  {
   "cell_type": "code",
   "execution_count": 4,
   "id": "744c9564-9157-4fcb-ac90-474f570a7b77",
   "metadata": {},
   "outputs": [],
   "source": [
    "processor_base = processor.ProcessorABC\n",
    "\n",
    "class SigBkgInference(processor_base):\n",
    "    \n",
    "    def __init__(self, batch_size, model_name, model_vers, url, verbose):\n",
    "        \n",
    "        # histogram to store event variables and inference results\n",
    "        self.hist = (hist.Hist.new.Reg(50, -7, 7, name=\"var0\", label=\"Variable 0\")\n",
    "                     .Reg(50, -45, 5, name=\"var1\", label=\"Variable 1\")\n",
    "                     .Reg(50, 0, 15, name=\"var2\", label=\"Variable 2\")\n",
    "                     .IntCat(range(2), name=\"classification\", label=\"ML Classification (Sig/Bkg)\")\n",
    "                     .Weight())\n",
    "        \n",
    "        # model information\n",
    "        self.batch_size = batch_size\n",
    "        self.model_name = model_name\n",
    "        self.model_vers = model_vers\n",
    "        self.url = url\n",
    "        self.verbose = verbose\n",
    "        \n",
    "    def process(self, events):\n",
    "        \n",
    "        histogram = self.hist.copy()\n",
    "        \n",
    "        # get event variables\n",
    "        var0 = events.var0\n",
    "        var1 = events.var1\n",
    "        var2 = events.var2\n",
    "        var3 = events.var3\n",
    "        \n",
    "        # concatenate event variables (for input into neural network)\n",
    "        features = ak.concatenate([var0[..., np.newaxis],\n",
    "                                   var1[..., np.newaxis],\n",
    "                                   var2[..., np.newaxis],\n",
    "                                   var3[..., np.newaxis]], axis=1)\n",
    "        \n",
    "        \n",
    "        # create gRPC client (communicates with inference server)\n",
    "        triton_client = grpcclient.InferenceServerClient(url=self.url, verbose=self.verbose)\n",
    "        \n",
    "        # get model info\n",
    "        model_metadata = triton_client.get_model_metadata(self.model_name, self.model_vers)\n",
    "        model_config = triton_client.get_model_config(model_name=self.model_name, \n",
    "                                                      model_version=self.model_vers)\n",
    "\n",
    "        model_config = model_config.config\n",
    "        input_metadata = model_metadata.inputs[0]\n",
    "        input_config = model_config.input[0]\n",
    "        output_metadata = model_metadata.outputs[0]\n",
    "        \n",
    "        max_batch_size = model_config.max_batch_size\n",
    "        batch_size = np.minimum(max_batch_size, self.batch_size) # ensure batch_size isn't larger than max_batch_size\n",
    "        input_name = input_metadata.name\n",
    "        output_name = output_metadata.name\n",
    "        dtype = input_metadata.datatype\n",
    "        \n",
    "        # get number of batches\n",
    "        data_length = len(var0)\n",
    "        num_batches = int(np.ceil(data_length/self.batch_size))\n",
    "        \n",
    "        # make inference request for each batch\n",
    "        classification = []\n",
    "        startind = 0\n",
    "        for i in range(num_batches):\n",
    "            \n",
    "            # get data for current batch\n",
    "            if i == num_batches-1: # if we are on last batch\n",
    "                data_current = features[startind:].to_numpy().astype(np.float32)\n",
    "            else:\n",
    "                data_current = features[startind:startind + self.batch_size].to_numpy().astype(np.float32)\n",
    "            \n",
    "            startind += self.batch_size\n",
    "            \n",
    "            # configure and set inputs\n",
    "            client = grpcclient\n",
    "            inpt = [client.InferInput(input_name, data_current.shape, dtype)]\n",
    "            inpt[0].set_data_from_numpy(data_current)\n",
    "            \n",
    "            # configure output\n",
    "            output = client.InferRequestedOutput(output_name)\n",
    "            \n",
    "            # inference request\n",
    "            results = triton_client.infer(model_name=self.model_name, \n",
    "                                          inputs=inpt, \n",
    "                                          outputs=[output]).as_numpy(output_name)\n",
    "            \n",
    "            # save results\n",
    "            results = np.round(results).T[0].astype(int)\n",
    "            classification.extend(results.tolist())\n",
    "            \n",
    "                \n",
    "        triton_client.close() # close client\n",
    "        \n",
    "        # fill histogram\n",
    "        histogram.fill(var0=var0, \n",
    "                       var1=var1, \n",
    "                       var2=var2, \n",
    "                       classification=classification)\n",
    "            \n",
    "        output = {\"nevents\": {events.metadata[\"dataset\"]: len(var0)}, \n",
    "                  \"hist\": histogram}\n",
    "\n",
    "        return output\n",
    "\n",
    "    def postprocess(self, accumulator):\n",
    "        return accumulator"
   ]
  },
  {
   "cell_type": "markdown",
   "id": "551946c9-584f-4ea6-bbcb-e67e2741da08",
   "metadata": {},
   "source": [
    "## Defining schema to load toy data"
   ]
  },
  {
   "cell_type": "code",
   "execution_count": 5,
   "id": "5bc83ee1-d699-43d8-b283-a0b6ee78ed02",
   "metadata": {},
   "outputs": [],
   "source": [
    "class ToySchema(BaseSchema):\n",
    "    \n",
    "    def __init__(self, base_form):\n",
    "        super().__init__(base_form)\n",
    "        self._form[\"contents\"] = self._build_collections(self._form[\"contents\"])\n",
    "        \n",
    "    def _build_collections(self, branch_forms):\n",
    "        names = [\"var0\", \"var1\", \"var2\", \"var3\"]\n",
    "        \n",
    "        output = {}\n",
    "        for name in names:\n",
    "            output[name] = branch_forms[name]\n",
    "        return output\n",
    "\n",
    "#     @property\n",
    "#     def behavior(self):\n",
    "#         behavior = {}\n",
    "#         behavior.update(base.behavior)\n",
    "#         return behavior"
   ]
  },
  {
   "cell_type": "markdown",
   "id": "f93efbb2-ec2c-4da7-bc9b-1c949ee5ab6e",
   "metadata": {},
   "source": [
    "## Process events"
   ]
  },
  {
   "cell_type": "code",
   "execution_count": 6,
   "id": "d4ef92e8-02ac-4173-9d31-ebc6a32082eb",
   "metadata": {},
   "outputs": [],
   "source": [
    "# paths to files\n",
    "fileset = {'process0': {'files': ['data/testdata0.root',\n",
    "                                  'data/testdata1.root',\n",
    "                                  'data/testdata2.root',\n",
    "                                  'data/testdata3.root',\n",
    "                                  'data/testdata4.root'],\n",
    "                        'nevts': 5*20000}\n",
    "          }"
   ]
  },
  {
   "cell_type": "code",
   "execution_count": 7,
   "id": "0df5d82d-1f7e-4d1d-a379-8e5d40998be8",
   "metadata": {},
   "outputs": [],
   "source": [
    "executor = processor.FuturesExecutor(workers=num_cores)"
   ]
  },
  {
   "cell_type": "code",
   "execution_count": 8,
   "id": "2b212c1d-c2be-4aa4-afc6-947de6dbc6e0",
   "metadata": {},
   "outputs": [],
   "source": [
    "run = processor.Runner(executor=executor, \n",
    "                       schema=ToySchema, \n",
    "                       savemetrics=True, \n",
    "                       metadata_cache={}, \n",
    "                       chunksize=500_000)"
   ]
  },
  {
   "cell_type": "code",
   "execution_count": 9,
   "id": "a12333aa-427b-40bd-a1f5-7dd3e0074e30",
   "metadata": {},
   "outputs": [
    {
     "data": {
      "text/html": [
       "<pre style=\"white-space:pre;overflow-x:auto;line-height:normal;font-family:Menlo,'DejaVu Sans Mono',consolas,'Courier New',monospace\"></pre>\n"
      ],
      "text/plain": [
       "\u001b[?25l"
      ]
     },
     "metadata": {},
     "output_type": "display_data"
    },
    {
     "data": {
      "application/vnd.jupyter.widget-view+json": {
       "model_id": "3ae650d9099c4752ab014690aed51aa5",
       "version_major": 2,
       "version_minor": 0
      },
      "text/plain": [
       "Output()"
      ]
     },
     "metadata": {},
     "output_type": "display_data"
    },
    {
     "data": {
      "text/html": [
       "<pre style=\"white-space:pre;overflow-x:auto;line-height:normal;font-family:Menlo,'DejaVu Sans Mono',consolas,'Courier New',monospace\">\n",
       "</pre>\n"
      ],
      "text/plain": [
       "\n",
       "\u001b[?25h"
      ]
     },
     "metadata": {},
     "output_type": "display_data"
    }
   ],
   "source": [
    "filemeta = run.preprocess(fileset, treename=\"events\")"
   ]
  },
  {
   "cell_type": "code",
   "execution_count": 10,
   "id": "1e0bb224-6732-46fa-8144-1a576ed1f673",
   "metadata": {},
   "outputs": [
    {
     "data": {
      "text/html": [
       "<pre style=\"white-space:pre;overflow-x:auto;line-height:normal;font-family:Menlo,'DejaVu Sans Mono',consolas,'Courier New',monospace\"></pre>\n"
      ],
      "text/plain": [
       "\u001b[?25l"
      ]
     },
     "metadata": {},
     "output_type": "display_data"
    },
    {
     "data": {
      "application/vnd.jupyter.widget-view+json": {
       "model_id": "e48e3e5a9bd143d5bc4881e6f0c0a555",
       "version_major": 2,
       "version_minor": 0
      },
      "text/plain": [
       "Output()"
      ]
     },
     "metadata": {},
     "output_type": "display_data"
    },
    {
     "data": {
      "text/html": [
       "<pre style=\"white-space:pre;overflow-x:auto;line-height:normal;font-family:Menlo,'DejaVu Sans Mono',consolas,'Courier New',monospace\">\n",
       "</pre>\n"
      ],
      "text/plain": [
       "\n",
       "\u001b[?25h"
      ]
     },
     "metadata": {},
     "output_type": "display_data"
    },
    {
     "name": "stderr",
     "output_type": "stream",
     "text": [
      "concurrent.futures.process._RemoteTraceback: \n",
      "\"\"\"\n",
      "Traceback (most recent call last):\n",
      "  File \"/opt/conda/lib/python3.8/site-packages/coffea/processor/executor.py\", line 1640, in _work_function\n",
      "    out = processor_instance.process(events)\n",
      "  File \"/tmp/ipykernel_604/310632309.py\", line 42, in process\n",
      "    model_metadata = triton_client.get_model_metadata(self.model_name, self.model_vers)\n",
      "  File \"/opt/conda/lib/python3.8/site-packages/tritonclient/grpc/__init__.py\", line 514, in get_model_metadata\n",
      "    raise_error_grpc(rpc_error)\n",
      "  File \"/opt/conda/lib/python3.8/site-packages/tritonclient/grpc/__init__.py\", line 62, in raise_error_grpc\n",
      "    raise get_error_grpc(rpc_error) from None\n",
      "tritonclient.utils.InferenceServerException: [StatusCode.UNAVAILABLE] Request for unknown model: 'binary_classifier' is not found\n",
      "\n",
      "The above exception was the direct cause of the following exception:\n",
      "\n",
      "Traceback (most recent call last):\n",
      "  File \"/opt/conda/lib/python3.8/concurrent/futures/process.py\", line 239, in _process_worker\n",
      "    r = call_item.fn(*call_item.args, **call_item.kwargs)\n",
      "  File \"/opt/conda/lib/python3.8/site-packages/coffea/processor/executor.py\", line 221, in __call__\n",
      "    out = self.function(*args, **kwargs)\n",
      "  File \"/opt/conda/lib/python3.8/site-packages/coffea/processor/executor.py\", line 1353, in automatic_retries\n",
      "    raise e\n",
      "  File \"/opt/conda/lib/python3.8/site-packages/coffea/processor/executor.py\", line 1337, in automatic_retries\n",
      "    return func(*args, **kwargs)\n",
      "  File \"/opt/conda/lib/python3.8/site-packages/coffea/processor/executor.py\", line 1642, in _work_function\n",
      "    raise Exception(f\"Failed processing file: {item!r}\") from e\n",
      "Exception: Failed processing file: WorkItem(dataset='process0', filename='data/testdata3.root', treename='events', entrystart=0, entrystop=20000, fileuuid=b'x\\xbaf\\x0cz\\x1e\\x11\\xed\\x8f\\xdb\\xean~@\\xc5~', usermeta={})\n",
      "\"\"\"\n",
      "\n",
      "The above exception was the direct cause of the following exception:\n",
      "\n",
      "Traceback (most recent call last):\n",
      "  File \"/opt/conda/lib/python3.8/site-packages/coffea/processor/executor.py\", line 786, in _processwith\n",
      "    merged = _watcher(FH, self, reducer, pool)\n",
      "  File \"/opt/conda/lib/python3.8/site-packages/coffea/processor/executor.py\", line 402, in _watcher\n",
      "    batch = FH.fetch(len(FH.completed))\n",
      "  File \"/opt/conda/lib/python3.8/site-packages/coffea/processor/executor.py\", line 286, in fetch\n",
      "    raise bad_futures[0].exception()\n",
      "Exception: Failed processing file: WorkItem(dataset='process0', filename='data/testdata3.root', treename='events', entrystart=0, entrystop=20000, fileuuid=b'x\\xbaf\\x0cz\\x1e\\x11\\xed\\x8f\\xdb\\xean~@\\xc5~', usermeta={})\n"
     ]
    },
    {
     "ename": "Exception",
     "evalue": "Failed processing file: WorkItem(dataset='process0', filename='data/testdata3.root', treename='events', entrystart=0, entrystop=20000, fileuuid=b'x\\xbaf\\x0cz\\x1e\\x11\\xed\\x8f\\xdb\\xean~@\\xc5~', usermeta={})",
     "output_type": "error",
     "traceback": [
      "\u001b[0;31m---------------------------------------------------------------------------\u001b[0m",
      "\u001b[0;31mException\u001b[0m                                 Traceback (most recent call last)",
      "Cell \u001b[0;32mIn [10], line 1\u001b[0m\n\u001b[0;32m----> 1\u001b[0m all_histograms, metrics \u001b[38;5;241m=\u001b[39m \u001b[43mrun\u001b[49m\u001b[43m(\u001b[49m\u001b[43mfileset\u001b[49m\u001b[43m,\u001b[49m\u001b[43m \u001b[49m\n\u001b[1;32m      2\u001b[0m \u001b[43m                              \u001b[49m\u001b[38;5;124;43m\"\u001b[39;49m\u001b[38;5;124;43mevents\u001b[39;49m\u001b[38;5;124;43m\"\u001b[39;49m\u001b[43m,\u001b[49m\u001b[43m \u001b[49m\n\u001b[1;32m      3\u001b[0m \u001b[43m                              \u001b[49m\u001b[43mprocessor_instance\u001b[49m\u001b[38;5;241;43m=\u001b[39;49m\u001b[43mSigBkgInference\u001b[49m\u001b[43m(\u001b[49m\u001b[43mbatch_size\u001b[49m\u001b[43m,\u001b[49m\u001b[43m \u001b[49m\n\u001b[1;32m      4\u001b[0m \u001b[43m                                                                 \u001b[49m\u001b[43mmodel_name\u001b[49m\u001b[43m,\u001b[49m\u001b[43m \u001b[49m\n\u001b[1;32m      5\u001b[0m \u001b[43m                                                                 \u001b[49m\u001b[43mmodel_vers\u001b[49m\u001b[43m,\u001b[49m\u001b[43m \u001b[49m\n\u001b[1;32m      6\u001b[0m \u001b[43m                                                                 \u001b[49m\u001b[43murl\u001b[49m\u001b[43m,\u001b[49m\u001b[43m \u001b[49m\n\u001b[1;32m      7\u001b[0m \u001b[43m                                                                 \u001b[49m\u001b[43mverbose\u001b[49m\u001b[43m)\u001b[49m\n\u001b[1;32m      8\u001b[0m \u001b[43m                             \u001b[49m\u001b[43m)\u001b[49m\n",
      "File \u001b[0;32m/opt/conda/lib/python3.8/site-packages/coffea/processor/executor.py:1686\u001b[0m, in \u001b[0;36mRunner.__call__\u001b[0;34m(self, fileset, treename, processor_instance)\u001b[0m\n\u001b[1;32m   1665\u001b[0m \u001b[38;5;28;01mdef\u001b[39;00m \u001b[38;5;21m__call__\u001b[39m(\n\u001b[1;32m   1666\u001b[0m     \u001b[38;5;28mself\u001b[39m,\n\u001b[1;32m   1667\u001b[0m     fileset: Dict,\n\u001b[1;32m   1668\u001b[0m     treename: \u001b[38;5;28mstr\u001b[39m,\n\u001b[1;32m   1669\u001b[0m     processor_instance: ProcessorABC,\n\u001b[1;32m   1670\u001b[0m ) \u001b[38;5;241m-\u001b[39m\u001b[38;5;241m>\u001b[39m Accumulatable:\n\u001b[1;32m   1671\u001b[0m     \u001b[38;5;124;03m\"\"\"Run the processor_instance on a given fileset\u001b[39;00m\n\u001b[1;32m   1672\u001b[0m \n\u001b[1;32m   1673\u001b[0m \u001b[38;5;124;03m    Parameters\u001b[39;00m\n\u001b[0;32m   (...)\u001b[0m\n\u001b[1;32m   1683\u001b[0m \u001b[38;5;124;03m            An instance of a class deriving from ProcessorABC\u001b[39;00m\n\u001b[1;32m   1684\u001b[0m \u001b[38;5;124;03m    \"\"\"\u001b[39;00m\n\u001b[0;32m-> 1686\u001b[0m     wrapped_out \u001b[38;5;241m=\u001b[39m \u001b[38;5;28;43mself\u001b[39;49m\u001b[38;5;241;43m.\u001b[39;49m\u001b[43mrun\u001b[49m\u001b[43m(\u001b[49m\u001b[43mfileset\u001b[49m\u001b[43m,\u001b[49m\u001b[43m \u001b[49m\u001b[43mprocessor_instance\u001b[49m\u001b[43m,\u001b[49m\u001b[43m \u001b[49m\u001b[43mtreename\u001b[49m\u001b[43m)\u001b[49m\n\u001b[1;32m   1687\u001b[0m     \u001b[38;5;28;01mif\u001b[39;00m \u001b[38;5;28mself\u001b[39m\u001b[38;5;241m.\u001b[39muse_dataframes:\n\u001b[1;32m   1688\u001b[0m         \u001b[38;5;28;01mreturn\u001b[39;00m wrapped_out  \u001b[38;5;66;03m# not wrapped anymore\u001b[39;00m\n",
      "File \u001b[0;32m/opt/conda/lib/python3.8/site-packages/coffea/processor/executor.py:1834\u001b[0m, in \u001b[0;36mRunner.run\u001b[0;34m(self, fileset, processor_instance, treename)\u001b[0m\n\u001b[1;32m   1829\u001b[0m closure \u001b[38;5;241m=\u001b[39m partial(\n\u001b[1;32m   1830\u001b[0m     \u001b[38;5;28mself\u001b[39m\u001b[38;5;241m.\u001b[39mautomatic_retries, \u001b[38;5;28mself\u001b[39m\u001b[38;5;241m.\u001b[39mretries, \u001b[38;5;28mself\u001b[39m\u001b[38;5;241m.\u001b[39mskipbadfiles, closure\n\u001b[1;32m   1831\u001b[0m )\n\u001b[1;32m   1833\u001b[0m executor \u001b[38;5;241m=\u001b[39m \u001b[38;5;28mself\u001b[39m\u001b[38;5;241m.\u001b[39mexecutor\u001b[38;5;241m.\u001b[39mcopy(\u001b[38;5;241m*\u001b[39m\u001b[38;5;241m*\u001b[39mexe_args)\n\u001b[0;32m-> 1834\u001b[0m wrapped_out, e \u001b[38;5;241m=\u001b[39m \u001b[43mexecutor\u001b[49m\u001b[43m(\u001b[49m\u001b[43mchunks\u001b[49m\u001b[43m,\u001b[49m\u001b[43m \u001b[49m\u001b[43mclosure\u001b[49m\u001b[43m,\u001b[49m\u001b[43m \u001b[49m\u001b[38;5;28;43;01mNone\u001b[39;49;00m\u001b[43m)\u001b[49m\n\u001b[1;32m   1835\u001b[0m \u001b[38;5;28;01mif\u001b[39;00m wrapped_out \u001b[38;5;129;01mis\u001b[39;00m \u001b[38;5;28;01mNone\u001b[39;00m:\n\u001b[1;32m   1836\u001b[0m     \u001b[38;5;28;01mraise\u001b[39;00m \u001b[38;5;167;01mValueError\u001b[39;00m(\n\u001b[1;32m   1837\u001b[0m         \u001b[38;5;124m\"\u001b[39m\u001b[38;5;124mNo chunks returned results, verify ``processor`` instance structure.\u001b[39m\u001b[38;5;130;01m\\n\u001b[39;00m\u001b[38;5;130;01m\\\u001b[39;00m\n\u001b[1;32m   1838\u001b[0m \u001b[38;5;124m        if you used skipbadfiles=True, it is possible all your files are bad.\u001b[39m\u001b[38;5;124m\"\u001b[39m\n\u001b[1;32m   1839\u001b[0m     )\n",
      "File \u001b[0;32m/opt/conda/lib/python3.8/site-packages/coffea/processor/executor.py:818\u001b[0m, in \u001b[0;36mFuturesExecutor.__call__\u001b[0;34m(self, items, function, accumulator)\u001b[0m\n\u001b[1;32m    816\u001b[0m \u001b[38;5;28;01melse\u001b[39;00m:\n\u001b[1;32m    817\u001b[0m     mergepoolinstance \u001b[38;5;241m=\u001b[39m \u001b[38;5;28;01mNone\u001b[39;00m\n\u001b[0;32m--> 818\u001b[0m \u001b[38;5;28;01mreturn\u001b[39;00m \u001b[43m_processwith\u001b[49m\u001b[43m(\u001b[49m\u001b[43mpool\u001b[49m\u001b[38;5;241;43m=\u001b[39;49m\u001b[43mpoolinstance\u001b[49m\u001b[43m,\u001b[49m\u001b[43m \u001b[49m\u001b[43mmergepool\u001b[49m\u001b[38;5;241;43m=\u001b[39;49m\u001b[43mmergepoolinstance\u001b[49m\u001b[43m)\u001b[49m\n",
      "File \u001b[0;32m/opt/conda/lib/python3.8/site-packages/coffea/processor/executor.py:802\u001b[0m, in \u001b[0;36mFuturesExecutor.__call__.<locals>._processwith\u001b[0;34m(pool, mergepool)\u001b[0m\n\u001b[1;32m    799\u001b[0m     \u001b[38;5;28;01mreturn\u001b[39;00m accumulate([_decompress(merged), accumulator]), e\n\u001b[1;32m    800\u001b[0m \u001b[38;5;28;01melse\u001b[39;00m:\n\u001b[0;32m--> 802\u001b[0m     \u001b[38;5;28;01mraise\u001b[39;00m e \u001b[38;5;28;01mfrom\u001b[39;00m \u001b[38;5;28mNone\u001b[39m\n",
      "File \u001b[0;32m/opt/conda/lib/python3.8/site-packages/coffea/processor/executor.py:786\u001b[0m, in \u001b[0;36mFuturesExecutor.__call__.<locals>._processwith\u001b[0;34m(pool, mergepool)\u001b[0m\n\u001b[1;32m    784\u001b[0m \u001b[38;5;28;01mtry\u001b[39;00m:\n\u001b[1;32m    785\u001b[0m     \u001b[38;5;28;01mif\u001b[39;00m mergepool \u001b[38;5;129;01mis\u001b[39;00m \u001b[38;5;28;01mNone\u001b[39;00m:\n\u001b[0;32m--> 786\u001b[0m         merged \u001b[38;5;241m=\u001b[39m \u001b[43m_watcher\u001b[49m\u001b[43m(\u001b[49m\u001b[43mFH\u001b[49m\u001b[43m,\u001b[49m\u001b[43m \u001b[49m\u001b[38;5;28;43mself\u001b[39;49m\u001b[43m,\u001b[49m\u001b[43m \u001b[49m\u001b[43mreducer\u001b[49m\u001b[43m,\u001b[49m\u001b[43m \u001b[49m\u001b[43mpool\u001b[49m\u001b[43m)\u001b[49m\n\u001b[1;32m    787\u001b[0m     \u001b[38;5;28;01melse\u001b[39;00m:\n\u001b[1;32m    788\u001b[0m         merged \u001b[38;5;241m=\u001b[39m _watcher(FH, \u001b[38;5;28mself\u001b[39m, reducer, mergepool)\n",
      "File \u001b[0;32m/opt/conda/lib/python3.8/site-packages/coffea/processor/executor.py:402\u001b[0m, in \u001b[0;36m_watcher\u001b[0;34m(FH, executor, merge_fcn, pool)\u001b[0m\n\u001b[1;32m    396\u001b[0m             progress\u001b[38;5;241m.\u001b[39mupdate(\n\u001b[1;32m    397\u001b[0m                 p_idm,\n\u001b[1;32m    398\u001b[0m                 total\u001b[38;5;241m=\u001b[39mprogress\u001b[38;5;241m.\u001b[39m_tasks[p_idm]\u001b[38;5;241m.\u001b[39mtotal \u001b[38;5;241m+\u001b[39m \u001b[38;5;241m1\u001b[39m,\n\u001b[1;32m    399\u001b[0m                 refresh\u001b[38;5;241m=\u001b[39m\u001b[38;5;28;01mTrue\u001b[39;00m,\n\u001b[1;32m    400\u001b[0m             )\n\u001b[1;32m    401\u001b[0m     \u001b[38;5;28;01melse\u001b[39;00m:  \u001b[38;5;66;03m# Merge within process\u001b[39;00m\n\u001b[0;32m--> 402\u001b[0m         batch \u001b[38;5;241m=\u001b[39m \u001b[43mFH\u001b[49m\u001b[38;5;241;43m.\u001b[39;49m\u001b[43mfetch\u001b[49m\u001b[43m(\u001b[49m\u001b[38;5;28;43mlen\u001b[39;49m\u001b[43m(\u001b[49m\u001b[43mFH\u001b[49m\u001b[38;5;241;43m.\u001b[39;49m\u001b[43mcompleted\u001b[49m\u001b[43m)\u001b[49m\u001b[43m)\u001b[49m\n\u001b[1;32m    403\u001b[0m         merged \u001b[38;5;241m=\u001b[39m _compress(\n\u001b[1;32m    404\u001b[0m             accumulate(\n\u001b[1;32m    405\u001b[0m                 progress\u001b[38;5;241m.\u001b[39mtrack(\n\u001b[0;32m   (...)\u001b[0m\n\u001b[1;32m    412\u001b[0m             executor\u001b[38;5;241m.\u001b[39mcompression,\n\u001b[1;32m    413\u001b[0m         )\n\u001b[1;32m    414\u001b[0m \u001b[38;5;66;03m# Add checkpointing\u001b[39;00m\n",
      "File \u001b[0;32m/opt/conda/lib/python3.8/site-packages/coffea/processor/executor.py:286\u001b[0m, in \u001b[0;36m_FuturesHolder.fetch\u001b[0;34m(self, N)\u001b[0m\n\u001b[1;32m    284\u001b[0m bad_futures \u001b[38;5;241m=\u001b[39m [future \u001b[38;5;28;01mfor\u001b[39;00m future \u001b[38;5;129;01min\u001b[39;00m _completed \u001b[38;5;28;01mif\u001b[39;00m \u001b[38;5;129;01mnot\u001b[39;00m _good_future(future)]\n\u001b[1;32m    285\u001b[0m \u001b[38;5;28mself\u001b[39m\u001b[38;5;241m.\u001b[39mcompleted\u001b[38;5;241m.\u001b[39mupdate(good_futures)\n\u001b[0;32m--> 286\u001b[0m \u001b[38;5;28;01mraise\u001b[39;00m bad_futures[\u001b[38;5;241m0\u001b[39m]\u001b[38;5;241m.\u001b[39mexception()\n",
      "\u001b[0;31mException\u001b[0m: Failed processing file: WorkItem(dataset='process0', filename='data/testdata3.root', treename='events', entrystart=0, entrystop=20000, fileuuid=b'x\\xbaf\\x0cz\\x1e\\x11\\xed\\x8f\\xdb\\xean~@\\xc5~', usermeta={})"
     ]
    }
   ],
   "source": [
    "all_histograms, metrics = run(fileset, \n",
    "                              \"events\", \n",
    "                              processor_instance=SigBkgInference(batch_size, \n",
    "                                                                 model_name, \n",
    "                                                                 model_vers, \n",
    "                                                                 url, \n",
    "                                                                 verbose)\n",
    "                             )"
   ]
  },
  {
   "cell_type": "code",
   "execution_count": 10,
   "id": "0a04a755-3f74-4ebb-8fe6-7c16a17b1b9a",
   "metadata": {},
   "outputs": [],
   "source": [
    "import matplotlib.pyplot as plt"
   ]
  },
  {
   "cell_type": "code",
   "execution_count": 11,
   "id": "04736c6e-4411-48a6-ae32-2c0414bf52bf",
   "metadata": {},
   "outputs": [
    {
     "data": {
      "text/plain": [
       "Hist(\n",
       "  Regular(50, -7, 7, name='var0', label='Variable 0'),\n",
       "  Regular(50, -45, 5, name='var1', label='Variable 1'),\n",
       "  Regular(50, 0, 15, name='var2', label='Variable 2'),\n",
       "  IntCategory([0, 1], name='classification', label='ML Classification (Sig/Bkg)'),\n",
       "  storage=Weight()) # Sum: WeightedSum(value=99966, variance=99966) (WeightedSum(value=100000, variance=100000) with flow)"
      ]
     },
     "execution_count": 11,
     "metadata": {},
     "output_type": "execute_result"
    }
   ],
   "source": [
    "all_histograms['hist']"
   ]
  },
  {
   "cell_type": "code",
   "execution_count": 12,
   "id": "220b6869-49be-448d-a347-dbfa0d8786e7",
   "metadata": {},
   "outputs": [
    {
     "data": {
      "image/png": "[encoded data removed]",
      "text/plain": [
       "<Figure size 640x480 with 1 Axes>"
      ]
     },
     "metadata": {},
     "output_type": "display_data"
    },
    {
     "data": {
      "image/png": "[encoded data removed]",
      "text/plain": [
       "<Figure size 640x480 with 1 Axes>"
      ]
     },
     "metadata": {},
     "output_type": "display_data"
    },
    {
     "data": {
      "image/png": "[encoded data removed]",
      "text/plain": [
       "<Figure size 640x480 with 1 Axes>"
      ]
     },
     "metadata": {},
     "output_type": "display_data"
    }
   ],
   "source": [
    "all_histograms['hist'].project(\"classification\", \"var0\").plot(density=True)\n",
    "plt.legend([\"Predicted as Signal\",\"Predicted as Background\"])\n",
    "plt.ylabel(\"Density\")\n",
    "plt.show()\n",
    "all_histograms['hist'].project(\"classification\", \"var1\").plot(density=True)\n",
    "plt.legend([\"Predicted as Signal\",\"Predicted as Background\"])\n",
    "plt.ylabel(\"Density\")\n",
    "plt.show()\n",
    "all_histograms['hist'].project(\"classification\", \"var2\").plot(density=True)\n",
    "plt.legend([\"Predicted as Signal\",\"Predicted as Background\"])\n",
    "plt.ylabel(\"Density\")\n",
    "plt.show()"
   ]
  }
 ],
 "metadata": {
  "kernelspec": {
   "display_name": "Python 3 (ipykernel)",
   "language": "python",
   "name": "python3"
  },
  "language_info": {
   "codemirror_mode": {
    "name": "ipython",
    "version": 3
   },
   "file_extension": ".py",
   "mimetype": "text/x-python",
   "name": "python",
   "nbconvert_exporter": "python",
   "pygments_lexer": "ipython3",
   "version": "3.8.15"
  }
 },
 "nbformat": 4,
 "nbformat_minor": 5
}
